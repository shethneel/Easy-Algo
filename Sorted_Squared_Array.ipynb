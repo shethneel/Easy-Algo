{
  "nbformat": 4,
  "nbformat_minor": 0,
  "metadata": {
    "colab": {
      "provenance": []
    },
    "kernelspec": {
      "name": "python3",
      "display_name": "Python 3"
    },
    "language_info": {
      "name": "python"
    }
  },
  "cells": [
    {
      "cell_type": "markdown",
      "source": [
        "\n",
        "  Write a function that takes in a non-empty array of integers that are sorted\n",
        "  in ascending order and returns a new array of the same length with the squares\n",
        "  of the original integers also sorted in ascending order."
      ],
      "metadata": {
        "id": "HGbXOd6FfqPo"
      }
    },
    {
      "cell_type": "code",
      "source": [
        "array = [5, 1, 22, 25, 6, -1, 8, 10]"
      ],
      "metadata": {
        "id": "IxJCr0mdoE5H"
      },
      "execution_count": 1,
      "outputs": []
    },
    {
      "cell_type": "code",
      "source": [
        "def SS (array):\n",
        "\n",
        "  array.sort()\n",
        "  new = []\n",
        "  for i in range(len(array)):\n",
        "    n = array[i]*array[i]\n",
        "    new.append(n)\n",
        "    new.sort()\n",
        "  return new\n",
        "    "
      ],
      "metadata": {
        "id": "tYnCNpwYoRZ1"
      },
      "execution_count": 2,
      "outputs": []
    },
    {
      "cell_type": "code",
      "source": [
        "print (SS(array))"
      ],
      "metadata": {
        "colab": {
          "base_uri": "https://localhost:8080/"
        },
        "id": "xVLnM6R7qL-9",
        "outputId": "e564459b-f044-41db-9a2d-0ff378dd4274"
      },
      "execution_count": 3,
      "outputs": [
        {
          "output_type": "stream",
          "name": "stdout",
          "text": [
            "[1, 1, 25, 36, 64, 100, 484, 625]\n"
          ]
        }
      ]
    }
  ]
}