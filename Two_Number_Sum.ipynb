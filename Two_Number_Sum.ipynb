{
  "nbformat": 4,
  "nbformat_minor": 0,
  "metadata": {
    "colab": {
      "provenance": []
    },
    "kernelspec": {
      "name": "python3",
      "display_name": "Python 3"
    },
    "language_info": {
      "name": "python"
    }
  },
  "cells": [
    {
      "cell_type": "markdown",
      "source": [
        "Write a function that takes in a non-empty array of distinct integers and an\n",
        "integer representing a target sum. If any two numbers in the input array sum\n",
        "  up to the target sum, the function should return them in an array, in any\n",
        "  order. If no two numbers sum up to the target sum, the function should return\n",
        "  an empty array.\n",
        "\n",
        "  Note that the target sum has to be obtained by summing two different integers\n",
        "  in the array; you can't add a single integer to itself in order to obtain the\n",
        "  target sum.\n",
        "\n",
        "  You can assume that there will be at most one pair of numbers summing up to\n",
        "  the target sum.\n",
        "\n",
        "  Sample Input\n",
        "\n",
        "  array = [3,5,-4,8,11,1,-1,6]\n",
        "\n",
        "  Sample Output \n",
        "\n",
        "  targetSum = 10"
      ],
      "metadata": {
        "id": "HGbXOd6FfqPo"
      }
    },
    {
      "cell_type": "code",
      "execution_count": 1,
      "metadata": {
        "colab": {
          "base_uri": "https://localhost:8080/"
        },
        "id": "hS7h5BxiV2t6",
        "outputId": "4abad4be-04fe-479d-db3b-d90ea36ced7a"
      },
      "outputs": [
        {
          "output_type": "stream",
          "name": "stdout",
          "text": [
            "(-1, 11)\n"
          ]
        }
      ],
      "source": [
        "def twoNumSum (array, targetSum):\n",
        "\n",
        "  temp = []\n",
        "\n",
        "  for i in array:\n",
        "\n",
        "    '''\n",
        "    \n",
        "    LOGIC\n",
        "    \n",
        "    targetSum = i + j\n",
        "    \n",
        "    Instead of adding i and j, let's subtract i from targetSum and if it is in array, we can return it otherwise we will add to to temp and move further\n",
        "\n",
        "    '''\n",
        "\n",
        "    j = targetSum - i\n",
        "\n",
        "    if j in temp:\n",
        "      return (i,j)\n",
        "    else:\n",
        "      temp.append(i)\n",
        "\n",
        "  return[]\n",
        "\n",
        "array = [3,5,-4,8,11,1,-1,6]\n",
        "targetSum = 10\n",
        "\n",
        "print (twoNumSum(array,targetSum))  "
      ]
    }
  ]
}