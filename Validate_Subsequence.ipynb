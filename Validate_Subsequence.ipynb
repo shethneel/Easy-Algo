{
  "nbformat": 4,
  "nbformat_minor": 0,
  "metadata": {
    "colab": {
      "provenance": []
    },
    "kernelspec": {
      "name": "python3",
      "display_name": "Python 3"
    },
    "language_info": {
      "name": "python"
    }
  },
  "cells": [
    {
      "cell_type": "markdown",
      "source": [
        "\n",
        "  Given two non-empty arrays of integers, write a function that determines\n",
        "  whether the second array is a subsequence of the first one.\n",
        "\n",
        "  A subsequence of an array is a set of numbers that aren't necessarily adjacent\n",
        "  in the array but that are in the same order as they appear in the array. For\n",
        "  instance, the numbers [1, 3, 4]  form a subsequence of the array [1, 2, 3, 4] , and so do the numbers [2, 4]. Note that a single number in an array and the array itself are both valid\n",
        "  subsequences of the array.\n",
        "\n",
        "  Sample Input\n",
        "\n",
        "  array = [5, 1, 22, 25, 6, -1, 8, 10] <br>\n",
        "  subSequence  = [1, 6, -1, 10]\n",
        "\n",
        "  Sample Output\n",
        "\n",
        "  True"
      ],
      "metadata": {
        "id": "HGbXOd6FfqPo"
      }
    },
    {
      "cell_type": "code",
      "source": [
        "array = [5, 1, 22, 25, 6, -1, 8, 10]\n",
        "subSequence  = [1, 6, -1, 10]"
      ],
      "metadata": {
        "id": "IxJCr0mdoE5H"
      },
      "execution_count": 1,
      "outputs": []
    },
    {
      "cell_type": "code",
      "source": [
        "def valSub (array, subSequence):\n",
        "\n",
        "  j = 0\n",
        "\n",
        "  for i in range(len(array)):\n",
        "\n",
        "    '''\n",
        "\n",
        "    LOGIC\n",
        "\n",
        "    We will iterate in i and increase j\n",
        "    First pick one element of j and go through array, if it's there, increase value of j and do the same until we find some different value or we reach the end of the array\n",
        "\n",
        "    '''\n",
        "    if array[i] == subSequence[j]:\n",
        "      j+=1\n",
        "    if j == len(subSequence):\n",
        "      return True\n",
        "  return False"
      ],
      "metadata": {
        "id": "tYnCNpwYoRZ1"
      },
      "execution_count": 2,
      "outputs": []
    },
    {
      "cell_type": "code",
      "source": [
        "print (valSub(array, subSequence))"
      ],
      "metadata": {
        "colab": {
          "base_uri": "https://localhost:8080/"
        },
        "id": "xVLnM6R7qL-9",
        "outputId": "6eb2d8e2-63a0-418f-9375-e273ea64a4a1"
      },
      "execution_count": 3,
      "outputs": [
        {
          "output_type": "stream",
          "name": "stdout",
          "text": [
            "True\n"
          ]
        }
      ]
    }
  ]
}