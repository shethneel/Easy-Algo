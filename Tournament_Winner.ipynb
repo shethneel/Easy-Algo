{
  "nbformat": 4,
  "nbformat_minor": 0,
  "metadata": {
    "colab": {
      "provenance": []
    },
    "kernelspec": {
      "name": "python3",
      "display_name": "Python 3"
    },
    "language_info": {
      "name": "python"
    }
  },
  "cells": [
    {
      "cell_type": "markdown",
      "source": [
        "\n",
        "  There's an algorithms tournament taking place in which teams of programmers\n",
        "  compete against each other to solve algorithmic problems as fast as possible.\n",
        "  Teams compete in a round robin, where each team faces off against all other\n",
        "  teams. Only two teams compete against each other at a time, and for each\n",
        "  competition, one team is designated the home team, while the other team is the\n",
        "  away team. In each competition there's always one winner and one loser; there\n",
        "  are no ties. A team receives 3 points if it wins and 0 points if it loses. The\n",
        "  winner of the tournament is the team that receives the most amount of points.\n",
        "\n",
        "  \n",
        "  Given an array of pairs representing the teams that have competed against each\n",
        "  other and an array containing the results of each competition, write a\n",
        "  function that returns the winner of the tournament. The input arrays are named\n",
        "  competitions and results, respectively. The\n",
        "  competitions array has elements in the form of\n",
        "  [homeTeam, awayTeam] , where each team is a string of at most 30\n",
        "  characters representing the name of the team. The results array\n",
        "  contains information about the winner of each corresponding competition in the\n",
        "  competitions array. Specifically, results[i] denotes\n",
        "  the winner of competitions[i], where a 1  in the\n",
        "   array means that the home team in the corresponding\n",
        "  competition won and a 0  means that the away team won.\n",
        "\n",
        "  \n",
        "  It's guaranteed that exactly one team will win the tournament and that each\n",
        "  team will compete against all other teams exactly once. It's also guaranteed\n",
        "  that the tournament will always have at least two teams."
      ],
      "metadata": {
        "id": "HGbXOd6FfqPo"
      }
    },
    {
      "cell_type": "code",
      "source": [
        "competitions  = [\n",
        "  [\"HTML\", \"C#\"],\n",
        "  [\"C#\", \"Python\"],\n",
        "  [\"Python\", \"HTML\"],\n",
        "]\n",
        "\n",
        "results  = [0, 0, 1]"
      ],
      "metadata": {
        "id": "IxJCr0mdoE5H"
      },
      "execution_count": 1,
      "outputs": []
    },
    {
      "cell_type": "code",
      "source": [
        "Home_team_won = 1\n",
        "\n",
        "def tournamentWinner(competitions, results):\n",
        "    currentBestTeam = ''\n",
        "    scores = {currentBestTeam : 0}\n",
        "\n",
        "    for i, competitions in enumerate(competitions):\n",
        "        result = results[i]\n",
        "        homeTeam, awayTeam = competitions\n",
        "\n",
        "        winningTeam = homeTeam if result == Home_team_won else awayTeam\n",
        "\n",
        "        updateScores (winningTeam, 3, scores)\n",
        "\n",
        "        if scores[winningTeam] > scores[currentBestTeam]:\n",
        "            currentBestTeam = winningTeam\n",
        "\n",
        "    return currentBestTeam\n",
        "\n",
        "def updateScores (team, points, scores):\n",
        "    if team not in scores:\n",
        "        scores[team] = 0\n",
        "    scores[team]+=points"
      ],
      "metadata": {
        "id": "tYnCNpwYoRZ1"
      },
      "execution_count": 2,
      "outputs": []
    },
    {
      "cell_type": "code",
      "source": [
        "print (tournamentWinner(competitions, results))"
      ],
      "metadata": {
        "colab": {
          "base_uri": "https://localhost:8080/"
        },
        "id": "xVLnM6R7qL-9",
        "outputId": "dd61bc3d-5efa-4fbd-8f2b-03e60d372cbd"
      },
      "execution_count": 3,
      "outputs": [
        {
          "output_type": "stream",
          "name": "stdout",
          "text": [
            "Python\n"
          ]
        }
      ]
    }
  ]
}